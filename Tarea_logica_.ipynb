{
  "nbformat": 4,
  "nbformat_minor": 0,
  "metadata": {
    "colab": {
      "provenance": [],
      "authorship_tag": "ABX9TyOG2u8nN21vgcY+zsQHaVE1",
      "include_colab_link": true
    },
    "kernelspec": {
      "name": "python3",
      "display_name": "Python 3"
    },
    "language_info": {
      "name": "python"
    }
  },
  "cells": [
    {
      "cell_type": "markdown",
      "metadata": {
        "id": "view-in-github",
        "colab_type": "text"
      },
      "source": [
        "<a href=\"https://colab.research.google.com/github/Alsham0/Alsham0.github.io/blob/main/Tarea_logica_.ipynb\" target=\"_parent\"><img src=\"https://colab.research.google.com/assets/colab-badge.svg\" alt=\"Open In Colab\"/></a>"
      ]
    },
    {
      "cell_type": "code",
      "source": [
        "frio =(0,33)\n",
        "medio =(34,66)\n",
        "caliente=(67,100)\n",
        "\n"
      ],
      "metadata": {
        "id": "CDqQzK9CpWiQ"
      },
      "execution_count": 88,
      "outputs": []
    },
    {
      "cell_type": "code",
      "source": [
        "\n",
        "#Arianna Sarahi Montaño Perez\n",
        "#Ailec Rodriguez Robles\n",
        "#Guillermo Romero Solis\n",
        "def Membership(x,List):\n",
        "\ttop=(float(x)-List[0])\n",
        "\tbottom=(List[-1]-List[0])\n",
        "\tM= top/bottom\n",
        "\treturn M\n",
        "\n",
        "def Es(x,List):\n",
        "\tif x >= List[0]:\n",
        "\t\tif x<= List[-1]:\n",
        "\t\t\tprint (Membership(x,List))\n",
        "\t\t\treturn True\n",
        "\t\n",
        "\tprint (Membership(x,List))\n",
        "\treturn False \n",
        "\n",
        "\n",
        "\n",
        "\n",
        "\n",
        "\n",
        "print (Es(7,frio))\n",
        "print (Es(23,caliente))\n",
        "\n",
        "\n",
        "\n",
        "\n"
      ],
      "metadata": {
        "colab": {
          "base_uri": "https://localhost:8080/"
        },
        "id": "wzgxin7gqKHv",
        "outputId": "e3712fb0-4c74-4ab4-e9dd-b99656b8946e"
      },
      "execution_count": 91,
      "outputs": [
        {
          "output_type": "stream",
          "name": "stdout",
          "text": [
            "0.21212121212121213\n",
            "True\n",
            "-1.3333333333333333\n",
            "False\n"
          ]
        }
      ]
    }
  ]
}