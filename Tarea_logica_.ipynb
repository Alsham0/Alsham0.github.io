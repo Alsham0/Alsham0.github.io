{
  "nbformat": 4,
  "nbformat_minor": 0,
  "metadata": {
    "colab": {
      "provenance": [],
      "authorship_tag": "ABX9TyMjoijQIKJd90GigmileHas"
    },
    "kernelspec": {
      "name": "python3",
      "display_name": "Python 3"
    },
    "language_info": {
      "name": "python"
    }
  },
  "cells": [
    {
      "cell_type": "code",
      "source": [
        "import numpy as np\n",
        "%pip install scikit-fuzzy\n",
        "import skfuzzy as fuzz\n",
        "import matplotlib.pyplot as plt  \n",
        "%matplotlib inline\n",
        "\n",
        "\n",
        "#Arianna Sarahi Montaño Perez\n",
        "#Ailec Rodriguez Robles\n",
        "#Guillermo Romero Solis"
      ],
      "metadata": {
        "colab": {
          "base_uri": "https://localhost:8080/"
        },
        "id": "ZVY6dD2P0DyS",
        "outputId": "d1021d94-d26c-4e47-83ef-de1a1ad2d266"
      },
      "execution_count": 1,
      "outputs": [
        {
          "output_type": "stream",
          "name": "stdout",
          "text": [
            "Looking in indexes: https://pypi.org/simple, https://us-python.pkg.dev/colab-wheels/public/simple/\n",
            "Collecting scikit-fuzzy\n",
            "  Downloading scikit-fuzzy-0.4.2.tar.gz (993 kB)\n",
            "\u001b[2K     \u001b[90m━━━━━━━━━━━━━━━━━━━━━━━━━━━━━━━━━━━━━━\u001b[0m \u001b[32m994.0/994.0 kB\u001b[0m \u001b[31m25.1 MB/s\u001b[0m eta \u001b[36m0:00:00\u001b[0m\n",
            "\u001b[?25h  Preparing metadata (setup.py) ... \u001b[?25l\u001b[?25hdone\n",
            "Requirement already satisfied: numpy>=1.6.0 in /usr/local/lib/python3.10/dist-packages (from scikit-fuzzy) (1.22.4)\n",
            "Requirement already satisfied: scipy>=0.9.0 in /usr/local/lib/python3.10/dist-packages (from scikit-fuzzy) (1.10.1)\n",
            "Requirement already satisfied: networkx>=1.9.0 in /usr/local/lib/python3.10/dist-packages (from scikit-fuzzy) (3.1)\n",
            "Building wheels for collected packages: scikit-fuzzy\n",
            "  Building wheel for scikit-fuzzy (setup.py) ... \u001b[?25l\u001b[?25hdone\n",
            "  Created wheel for scikit-fuzzy: filename=scikit_fuzzy-0.4.2-py3-none-any.whl size=894073 sha256=4492f7e3b9eb4038c31b2b1e74898c1e12670592ac6a89cb841dc3d2e9734720\n",
            "  Stored in directory: /root/.cache/pip/wheels/4f/86/1b/dfd97134a2c8313e519bcebd95d3fedc7be7944db022094bc8\n",
            "Successfully built scikit-fuzzy\n",
            "Installing collected packages: scikit-fuzzy\n",
            "Successfully installed scikit-fuzzy-0.4.2\n"
          ]
        }
      ]
    },
    {
      "cell_type": "code",
      "source": [
        "x_temp = np.arange(0, 100, 1)  \n",
        "x_status = np.arange(0, 100, 1)\n",
        "\n",
        "temp_p = fuzz.trapmf(x_temp,[0, 0, 33, 33])  \n",
        "temp_md = fuzz.trapmf(x_temp,[34, 34, 66, 66])  \n",
        "temp_mc = fuzz.trapmf(x_temp,[67, 67, 100, 100])\n",
        "\n",
        "status_negatif = fuzz.trapmf(x_status,[0, 0, 1, 1])\n",
        "\n",
        "fig, (ax0) = plt.subplots(nrows=1, figsize=(10, 3))\n",
        "\n",
        "ax0.plot(x_temp, temp_p, 'b', linewidth=1, label='POCO')  \n",
        "ax0.plot(x_temp, temp_md, 'g', linewidth=1, label='MEDIO')  \n",
        "ax0.plot(x_temp, temp_mc, 'r', linewidth=1, label='MUCHO')  \n",
        "ax0.set_title('Temperatura')  \n",
        "ax0.legend()  "
      ],
      "metadata": {
        "colab": {
          "base_uri": "https://localhost:8080/",
          "height": 331
        },
        "id": "GVXgza232RsH",
        "outputId": "a251f183-afb1-47f9-f346-b1329fb7efd1"
      },
      "execution_count": 16,
      "outputs": [
        {
          "output_type": "execute_result",
          "data": {
            "text/plain": [
              "<matplotlib.legend.Legend at 0x7f6a6fab8280>"
            ]
          },
          "metadata": {},
          "execution_count": 16
        },
        {
          "output_type": "display_data",
          "data": {
            "text/plain": [
              "<Figure size 1000x300 with 1 Axes>"
            ],
            "image/png": "[encoded data removed]"
          },
          "metadata": {}
        }
      ]
    },
    {
      "cell_type": "code",
      "source": [
        "frio =(0,33)\n",
        "medio =(34,66)\n",
        "caliente=(67,100)\n",
        "\n"
      ],
      "metadata": {
        "id": "CDqQzK9CpWiQ"
      },
      "execution_count": 17,
      "outputs": []
    },
    {
      "cell_type": "code",
      "source": [
        "\n",
        "def Membership(x,List):\n",
        "\tarriba=(float(x)-List[0])\n",
        "\tabajo=(List[-1]-List[0])\n",
        "\tM= arriba/abajo\n",
        "\treturn M\n",
        "\n",
        "def Es(x,List):\n",
        "\tif x >= List[0]:\n",
        "\t\tif x<= List[-1]:\n",
        "\t\t\tprint (Membership(x,List))\n",
        "\t\t\treturn True\n",
        "\t\n",
        "\tprint (Membership(x,List))\n",
        "\treturn False \n",
        "\n",
        "\n",
        "#Podemos probar con los valores que queramos\n",
        "print (Es(7,frio))\n",
        "print (Es(23,caliente))\n",
        "\n",
        "\n",
        "\n",
        "\n"
      ],
      "metadata": {
        "colab": {
          "base_uri": "https://localhost:8080/"
        },
        "id": "wzgxin7gqKHv",
        "outputId": "b7cc0651-a3bf-4b10-c322-2aab14da97a1"
      },
      "execution_count": 18,
      "outputs": [
        {
          "output_type": "stream",
          "name": "stdout",
          "text": [
            "0.21212121212121213\n",
            "True\n",
            "-1.3333333333333333\n",
            "False\n"
          ]
        }
      ]
    }
  ]
}