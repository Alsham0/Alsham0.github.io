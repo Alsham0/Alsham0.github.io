{
  "nbformat": 4,
  "nbformat_minor": 0,
  "metadata": {
    "colab": {
      "provenance": [],
      "authorship_tag": "ABX9TyM6bXEmaDPHOVxSRd9SEyRt"
    },
    "kernelspec": {
      "name": "python3",
      "display_name": "Python 3"
    },
    "language_info": {
      "name": "python"
    }
  },
  "cells": [
    {
      "cell_type": "code",
      "source": [
        "frio =(0,33)\n",
        "medio =(34,66)\n",
        "caliente=(67,100)\n",
        "\n"
      ],
      "metadata": {
        "id": "CDqQzK9CpWiQ"
      },
      "execution_count": 88,
      "outputs": []
    },
    {
      "cell_type": "code",
      "source": [
        "\n",
        "#Arianna Sarahi Montaño Perez\n",
        "#Ailec Rodriguez Robles\n",
        "#Guillermo Romero Solis\n",
        "def Membership(x,List):\n",
        "\tarriba=(float(x)-List[0])\n",
        "\tabajo=(List[-1]-List[0])\n",
        "\tM= arriba/abajo\n",
        "\treturn M\n",
        "\n",
        "def Es(x,List):\n",
        "\tif x >= List[0]:\n",
        "\t\tif x<= List[-1]:\n",
        "\t\t\tprint (Membership(x,List))\n",
        "\t\t\treturn True\n",
        "\t\n",
        "\tprint (Membership(x,List))\n",
        "\treturn False \n",
        "\n",
        "\n",
        "\n",
        "\n",
        "\n",
        "\n",
        "print (Es(7,frio))\n",
        "print (Es(23,caliente))\n",
        "\n",
        "\n",
        "\n",
        "\n"
      ],
      "metadata": {
        "colab": {
          "base_uri": "https://localhost:8080/"
        },
        "id": "wzgxin7gqKHv",
        "outputId": "cfa08847-4ab9-47d2-96bf-c8ac0b438fbe"
      },
      "execution_count": 92,
      "outputs": [
        {
          "output_type": "stream",
          "name": "stdout",
          "text": [
            "0.21212121212121213\n",
            "True\n",
            "-1.3333333333333333\n",
            "False\n"
          ]
        }
      ]
    }
  ]
}